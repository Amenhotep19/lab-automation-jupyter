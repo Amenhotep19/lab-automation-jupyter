{
 "cells": [
  {
   "cell_type": "code",
   "execution_count": 1,
   "metadata": {},
   "outputs": [],
   "source": [
    "import paho.mqtt.client as mqtt"
   ]
  },
  {
   "cell_type": "code",
   "execution_count": 2,
   "metadata": {},
   "outputs": [],
   "source": [
    "def on_connect(mqttc, obj, flags, rc):\n",
    "    print(\"rc: \" + str(rc))"
   ]
  },
  {
   "cell_type": "code",
   "execution_count": 3,
   "metadata": {},
   "outputs": [],
   "source": [
    "def on_message(mqttc, obj, msg):\n",
    "    print(msg.topic + \" \" + str(msg.qos) + \" \" + str(msg.payload))"
   ]
  },
  {
   "cell_type": "code",
   "execution_count": 4,
   "metadata": {},
   "outputs": [],
   "source": [
    "def on_publish(mqttc, obj, mid):\n",
    "    print(\"mid: \" + str(mid))"
   ]
  },
  {
   "cell_type": "code",
   "execution_count": 5,
   "metadata": {},
   "outputs": [],
   "source": [
    "def on_subscribe(mqttc, obj, mid, granted_qos):\n",
    "    print(\"Subscribed: \" + str(mid) + \" \" + str(granted_qos))"
   ]
  },
  {
   "cell_type": "code",
   "execution_count": 6,
   "metadata": {},
   "outputs": [],
   "source": [
    "def on_log(mqttc, obj, level, string):\n",
    "    print(string)"
   ]
  },
  {
   "cell_type": "code",
   "execution_count": 7,
   "metadata": {},
   "outputs": [],
   "source": [
    "mqttc = mqtt.Client()\n",
    "mqttc.on_message = on_message\n",
    "mqttc.on_connect = on_connect\n",
    "mqttc.on_publish = on_publish\n",
    "mqttc.on_subscribe = on_subscribe\n",
    "# Uncomment to enable debug messages\n",
    "# mqttc.on_log = on_log"
   ]
  },
  {
   "cell_type": "code",
   "execution_count": 8,
   "metadata": {},
   "outputs": [
    {
     "data": {
      "text/plain": [
       "0"
      ]
     },
     "execution_count": 8,
     "metadata": {},
     "output_type": "execute_result"
    }
   ],
   "source": [
    "mqttc.connect(\"localhost\", 1883, 60)"
   ]
  },
  {
   "cell_type": "code",
   "execution_count": null,
   "metadata": {},
   "outputs": [
    {
     "data": {
      "text/plain": [
       "(0, 1)"
      ]
     },
     "execution_count": 9,
     "metadata": {},
     "output_type": "execute_result"
    }
   ],
   "source": [
    "mqttc.subscribe(\"sensors/temperature/data\")"
   ]
  },
  {
   "cell_type": "code",
   "execution_count": null,
   "metadata": {},
   "outputs": [
    {
     "name": "stdout",
     "output_type": "stream",
     "text": [
      "rc: 0\n",
      "Subscribed: 1 (0,)\n",
      "sensors/temperature/data 0 {\"sensor_id\":\"temperature\",\"value\":27,\"timestamp\":1513790062416}\n",
      "sensors/temperature/data 0 {\"sensor_id\":\"temperature\",\"value\":28,\"timestamp\":1513790063419}\n",
      "sensors/temperature/data 0 {\"sensor_id\":\"temperature\",\"value\":18,\"timestamp\":1513790064421}\n",
      "sensors/temperature/data 0 {\"sensor_id\":\"temperature\",\"value\":25,\"timestamp\":1513790065422}\n",
      "sensors/temperature/data 0 {\"sensor_id\":\"temperature\",\"value\":24,\"timestamp\":1513790066423}\n",
      "sensors/temperature/data 0 {\"sensor_id\":\"temperature\",\"value\":27,\"timestamp\":1513790067425}\n",
      "sensors/temperature/data 0 {'timestamp': 1513790067425, 'sensor_id': 'temperature', 'value': 27}\n",
      "sensors/temperature/data 0 {'timestamp': 1513790067425, 'sensor_id': 'temperature', 'value': 27}\n",
      "sensors/temperature/data 0 {'timestamp': 1513790067425, 'sensor_id': 'temperature', 'value': 27}\n"
     ]
    }
   ],
   "source": [
    "mqttc.loop_forever()"
   ]
  },
  {
   "cell_type": "code",
   "execution_count": null,
   "metadata": {},
   "outputs": [],
   "source": []
  }
 ],
 "metadata": {
  "kernelspec": {
   "display_name": "Python 2",
   "language": "python",
   "name": "python2"
  },
  "language_info": {
   "codemirror_mode": {
    "name": "ipython",
    "version": 2
   },
   "file_extension": ".py",
   "mimetype": "text/x-python",
   "name": "python",
   "nbconvert_exporter": "python",
   "pygments_lexer": "ipython2",
   "version": "2.7.14"
  }
 },
 "nbformat": 4,
 "nbformat_minor": 2
}
