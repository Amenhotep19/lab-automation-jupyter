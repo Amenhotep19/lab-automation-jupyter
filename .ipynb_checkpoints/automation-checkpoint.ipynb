{
 "cells": [
  {
   "cell_type": "markdown",
   "metadata": {},
   "source": [
    "# Automation\n",
    "\n",
    "## Introduction\n",
    "\n",
    "Condition Based Monitoring, sometimes called Edge Network Automation, is the idea that edge sensors and actuators should not be responsible for decision making or coordinating the responses to various edge network condition. However, neither should all of this decision making and analytics processing be performed in the cloud. The IoT Gateway should be remotely programmable by an IoT administrator or software developer in such a way that local events can be automatically managed and reported. Intelligent closed loop systems are able to coordinate responses to conditions on their own networks and report back to the cloud or a network operation center.\n",
    "\n",
    "In the example of a temperature controlled room, the temperature sensor is reporting the temperature to the Intel® IoT Gateway and the gateway is responsible for triggering an IoT event. An IoT Event (also called a trigger in this workshop) always has a conditions function and a trigger function. In the case that the temperature is too hot the event may take automatic action to turn on the air conditioning on and send an alert to the person responsible for the room.\n",
    "\n",
    "\n",
    "\n",
    "## Purpose of the Lab\n",
    "\n",
    "In this lab, we will implement a Python based rules engine to automate IoT action on a network. This system can be used to build a smart home, a smart factory or other Internet of Things installations.\n",
    "\n",
    "The student should note that this implementation's primary goal is to teach the fundementals of implementing a rules based IoT automation system. \n",
    "\n",
    "There are many other considerations in building a more production ready environment. A production environment should consider the actors of the system such as the system administrators, business policy makers, factory workers, developers, etc ... It should also consider integration with the pre-existing software environment, enhanced security measures and building a human interface device and graphical user interface for the operators.\n",
    "\n",
    "This lab's purpose is to focus on the core ideas and not to distract with the many ways that it could be built out or integrated into other enviroments.\n",
    "\n",
    "## Objectives\n",
    "\n",
    "By the end of this module, you should be able to:\n",
    "\n",
    "* Implement your automation rules in the form of conditional actions called triggers that run on the edge network.\n",
    "* Read triggers from the database and evaluate whether any of them should be executed.\n",
    "* Write your own Automation Service\n",
    "\n",
    "\n"
   ]
  },
  {
   "cell_type": "markdown",
   "metadata": {},
   "source": [
    "## Prerequisites and Architecture Overview\n",
    "\n",
    "As we begin this lab, we assume that the developer has an Intel IoT device on the network and that there are **sensors on the network transmitting data over MQTT**.\n",
    "\n",
    "Our automation service will start by reading in a list of automation rules and listening to incoming MQTT sensor data.\n",
    "\n",
    "A Rule is defined to have a Name, and Sensor that it monitors, a true/false predicate function to determine whether the rule should be run and a function action to run if the predicate is true.\n",
    "\n",
    "To build this automation service, we will start by: \n",
    "1. **Defining a Rule Class** and creating several examples to get the student familiar with them. \n",
    "2. Secondly, we will **define several helper functions** that will allow us to use a function programming style to filter the list of Rules. When data comes in to the automation service, we will want to filter the list of Rules so that only rules that apply to incoming data are checked and evaluated.\n",
    "3. **Create a simple Python service to listen for MQTT**\n",
    "4. Use the **helper functions to filter the list of rules**.\n",
    "5. **Execute every rule whose predicate function evaluates to true**.\n",
    "\n",
    "\n",
    "## Implementing a Rule\n",
    "\n",
    "### The Rule Class\n",
    "\n",
    "Here is the definition of a Rule base class. To define a rule you will need to extend this class. \n",
    "\n",
    "This base class provides:\n",
    "* a **constructor function** that assigns the rule to a unique sensor on the network. \n",
    "* default **predicate function** which returns always False. This means that by default the action function is not never called. This function should be overridden in a derived class.\n",
    "* an **__do function** that calls the predicate function and if it returns true then calls the action function\n",
    "* an **action function** to perform the main task. This function should be overridden in a derived class.\n",
    "\n",
    "Note that the __\\_\\_do function__ is a private function that can not be accessed outside of the class."
   ]
  },
  {
   "cell_type": "code",
   "execution_count": 14,
   "metadata": {
    "collapsed": true
   },
   "outputs": [],
   "source": [
    "import sys\n",
    "class Rule:\n",
    "    \"\"\"\n",
    "    A Base Class for defining IoT automation rules.\n",
    "    \"\"\"\n",
    "    \n",
    "    def __init__(self, sensorID):\n",
    "        \"\"\"\n",
    "        Constructor function that takes a id \n",
    "        that uniquely identifies a sensor.\n",
    "        \"\"\"\n",
    "        self.sensorID = sensorID\n",
    "    \n",
    "    def predicate(self, sensorValue):\n",
    "        \"In the base Rule class, the predicate always returns False\"\n",
    "        return False\n",
    "    \n",
    "    def __do(self, sensorValue):\n",
    "        try:\n",
    "            if self.predicate(sensorValue):\n",
    "                self.action(sensorValue)\n",
    "        except:\n",
    "            print \"Unexpected error:\", sys.exc_info()[0]\n",
    "                    \n",
    "    def action(self, sensorValue):\n",
    "        print(\"Generic Rule activiate on \" + \n",
    "              self.sensorID + \" with senor value \" + str(sensorValue))    "
   ]
  },
  {
   "cell_type": "markdown",
   "metadata": {},
   "source": [
    "### Define a Subclass Rule Class that can be Instantiated\n",
    "\n",
    "Now that we've defined the base Rule class, we can show examples of how to use it to derive a specific rule class.\n",
    "\n",
    "The sky is the limit with the action that you choose to define. Some common action might be to sent a text message to a list of system administrators when something isn't working properly, or to log a message to a database. You can include any Python libraries that you wish when defining these functions.\n",
    "\n",
    "Let define a simple Rule that prints to the console when the temperature rises over 20C. "
   ]
  },
  {
   "cell_type": "code",
   "execution_count": 17,
   "metadata": {
    "collapsed": true
   },
   "outputs": [],
   "source": [
    "class TemperatureOver20Rule(Rule):\n",
    "    def predicate(self, sensorValue):\n",
    "        return sensorValue > 20\n",
    "    \n",
    "    def action(self, sensorValue):\n",
    "        print(\"Temperature Over 20 Rule activated on \" + self.sensorID + \" with senor value \" + str(sensorValue))"
   ]
  },
  {
   "cell_type": "markdown",
   "metadata": {},
   "source": [
    "And another rule that prints to the console if the temperature falls below 15C."
   ]
  },
  {
   "cell_type": "code",
   "execution_count": 18,
   "metadata": {
    "collapsed": true
   },
   "outputs": [],
   "source": [
    "class TemperatureUnder15Rule(Rule):\n",
    "    def predicate(self, sensorValue):\n",
    "        return sensorValue < 15\n",
    "    \n",
    "    def action(self, sensorValue):\n",
    "        print(\"Temperature Under 15 Rule activated on \" + \n",
    "              self.sensorID + \n",
    "              \" with senor value \" + \n",
    "              str(sensorValue))\n",
    "        "
   ]
  },
  {
   "cell_type": "markdown",
   "metadata": {},
   "source": [
    "### Instantiate the Rules"
   ]
  },
  {
   "cell_type": "code",
   "execution_count": 19,
   "metadata": {
    "collapsed": true
   },
   "outputs": [],
   "source": [
    "r1 = Rule(\"temperature1\")\n",
    "r2 = TemperatureUnder15Rule(\"temperature\")\n",
    "r3 = TemperatureOver20Rule(\"temperature\")\n",
    "r4 = Rule(\"temperature4\")"
   ]
  },
  {
   "cell_type": "code",
   "execution_count": 20,
   "metadata": {
    "collapsed": true
   },
   "outputs": [],
   "source": [
    "rules = r1, r2, r3, r4"
   ]
  },
  {
   "cell_type": "markdown",
   "metadata": {},
   "source": [
    "Return an array of results from each rules predicate function"
   ]
  },
  {
   "cell_type": "markdown",
   "metadata": {},
   "source": [
    "### Define Helper Functions"
   ]
  },
  {
   "cell_type": "markdown",
   "metadata": {},
   "source": [
    "The first helper function that we will define will take the entire list of automation rules and filter it based on sensorID. Becasue we are listening to JSON object that contain a **sensorID**, a **value** and a **timestamp**, this enables us to filter the automation rules to only include the rules that apply to the sensorID of the incoming data."
   ]
  },
  {
   "cell_type": "code",
   "execution_count": 21,
   "metadata": {
    "collapsed": true
   },
   "outputs": [],
   "source": [
    "def filterBySensorId(sensorID, rules):\n",
    "    \"Filter a list of rules by sensorID\"\n",
    "    return [rule for rule in rules if rule.sensorID == sensorID]"
   ]
  },
  {
   "cell_type": "markdown",
   "metadata": {},
   "source": [
    "The second filter that we will define will take a list of automation rules and execute each of their **predicate** functions and return a list of rules that should be executed on the incoming data."
   ]
  },
  {
   "cell_type": "code",
   "execution_count": 22,
   "metadata": {
    "collapsed": true
   },
   "outputs": [],
   "source": [
    "def filterByPredicate(sensorData, rules):\n",
    "    \"Filter a list of rules by its predicate\"\n",
    "    [rule for rule in rules if rule.predicate(sensorData) == True]"
   ]
  },
  {
   "cell_type": "code",
   "execution_count": 23,
   "metadata": {},
   "outputs": [
    {
     "name": "stdout",
     "output_type": "stream",
     "text": [
      "None\n"
     ]
    }
   ],
   "source": [
    "print filterByPredicate(20, rules)"
   ]
  },
  {
   "cell_type": "markdown",
   "metadata": {},
   "source": [
    "Let's test this helper to verify that it works as expected."
   ]
  },
  {
   "cell_type": "code",
   "execution_count": 24,
   "metadata": {},
   "outputs": [
    {
     "data": {
      "text/plain": [
       "[<__main__.Rule instance at 0x10cd53560>]"
      ]
     },
     "execution_count": 24,
     "metadata": {},
     "output_type": "execute_result"
    }
   ],
   "source": [
    "filterBySensorId(\"temperature1\", rules)"
   ]
  },
  {
   "cell_type": "code",
   "execution_count": 25,
   "metadata": {},
   "outputs": [
    {
     "data": {
      "text/plain": [
       "[]"
      ]
     },
     "execution_count": 25,
     "metadata": {},
     "output_type": "execute_result"
    }
   ],
   "source": [
    "filterBySensorId(\"temperature2\", rules)"
   ]
  },
  {
   "cell_type": "code",
   "execution_count": 26,
   "metadata": {},
   "outputs": [
    {
     "data": {
      "text/plain": [
       "[]"
      ]
     },
     "execution_count": 26,
     "metadata": {},
     "output_type": "execute_result"
    }
   ],
   "source": [
    "filterBySensorId(\"temperature3\", rules)"
   ]
  },
  {
   "cell_type": "code",
   "execution_count": 27,
   "metadata": {},
   "outputs": [
    {
     "data": {
      "text/plain": [
       "[<__main__.Rule instance at 0x10cdb1320>]"
      ]
     },
     "execution_count": 27,
     "metadata": {},
     "output_type": "execute_result"
    }
   ],
   "source": [
    "filterBySensorId(\"temperature4\", rules)"
   ]
  },
  {
   "cell_type": "code",
   "execution_count": 28,
   "metadata": {},
   "outputs": [
    {
     "data": {
      "text/plain": [
       "[False, False, False, False]"
      ]
     },
     "execution_count": 28,
     "metadata": {},
     "output_type": "execute_result"
    }
   ],
   "source": [
    "[r.predicate(20) for r in rules]"
   ]
  },
  {
   "cell_type": "code",
   "execution_count": 29,
   "metadata": {},
   "outputs": [
    {
     "name": "stdout",
     "output_type": "stream",
     "text": [
      "Generic Rule activiate on temperature1 with senor value 21\n",
      "Temperature Under 15 Rule activated on temperature with senor value 21\n",
      "Temperature Over 20 Rule activated on temperature with senor value 21\n",
      "Generic Rule activiate on temperature4 with senor value 21\n"
     ]
    },
    {
     "data": {
      "text/plain": [
       "[None, None, None, None]"
      ]
     },
     "execution_count": 29,
     "metadata": {},
     "output_type": "execute_result"
    }
   ],
   "source": [
    "[r.action(21) for r in rules]"
   ]
  },
  {
   "cell_type": "markdown",
   "metadata": {},
   "source": [
    "## Helper Functions to Encode/Decode JSON"
   ]
  },
  {
   "cell_type": "code",
   "execution_count": 3,
   "metadata": {
    "collapsed": true
   },
   "outputs": [],
   "source": [
    "import json"
   ]
  },
  {
   "cell_type": "code",
   "execution_count": 8,
   "metadata": {},
   "outputs": [
    {
     "name": "stdout",
     "output_type": "stream",
     "text": [
      "\n",
      "{\n",
      "  \"sensor_id\":\"temperature3\",\n",
      "  \"value\":17,\n",
      "  \"timestamp\":1513807710949\n",
      "}\n",
      "            \n"
     ]
    }
   ],
   "source": [
    "sampleData = '''\n",
    "{\n",
    "  \"sensor_id\":\"temperature3\",\n",
    "  \"value\":17,\n",
    "  \"timestamp\":1513807710949\n",
    "}\n",
    "            '''\n",
    "print(sampleData)"
   ]
  },
  {
   "cell_type": "code",
   "execution_count": 9,
   "metadata": {
    "collapsed": true
   },
   "outputs": [],
   "source": [
    "try:\n",
    "    parsed_json = json.loads(sampleData)\n",
    "except:\n",
    "     print(\"Unexpected error:\", sys.exc_info()[0])"
   ]
  },
  {
   "cell_type": "code",
   "execution_count": 10,
   "metadata": {},
   "outputs": [
    {
     "data": {
      "text/plain": [
       "17"
      ]
     },
     "execution_count": 10,
     "metadata": {},
     "output_type": "execute_result"
    }
   ],
   "source": [
    "parsed_json['value']"
   ]
  },
  {
   "cell_type": "code",
   "execution_count": 11,
   "metadata": {},
   "outputs": [
    {
     "ename": "NameError",
     "evalue": "name 'filterBySensorId' is not defined",
     "output_type": "error",
     "traceback": [
      "\u001b[0;31m---------------------------------------------------------------------------\u001b[0m",
      "\u001b[0;31mNameError\u001b[0m                                 Traceback (most recent call last)",
      "\u001b[0;32m<ipython-input-11-892ddddeda86>\u001b[0m in \u001b[0;36m<module>\u001b[0;34m()\u001b[0m\n\u001b[1;32m      1\u001b[0m [r.action(parsed_json['value']) \n\u001b[0;32m----> 2\u001b[0;31m   for r in filterBySensorId(\n\u001b[0m\u001b[1;32m      3\u001b[0m                   \u001b[0mparsed_json\u001b[0m\u001b[0;34m[\u001b[0m\u001b[0;34m'sensor_id'\u001b[0m\u001b[0;34m]\u001b[0m\u001b[0;34m,\u001b[0m \u001b[0mrules\u001b[0m\u001b[0;34m\u001b[0m\u001b[0m\n\u001b[1;32m      4\u001b[0m   )]\n",
      "\u001b[0;31mNameError\u001b[0m: name 'filterBySensorId' is not defined"
     ]
    }
   ],
   "source": [
    "[r.action(parsed_json['value']) \n",
    "  for r in filterBySensorId(\n",
    "                  parsed_json['sensor_id'], rules\n",
    "  )]"
   ]
  },
  {
   "cell_type": "markdown",
   "metadata": {},
   "source": [
    "## Setup the MQTT subscription of the Automation Service"
   ]
  },
  {
   "cell_type": "code",
   "execution_count": 21,
   "metadata": {
    "collapsed": true
   },
   "outputs": [],
   "source": [
    "import paho.mqtt.client as mqtt"
   ]
  },
  {
   "cell_type": "code",
   "execution_count": 22,
   "metadata": {
    "collapsed": true
   },
   "outputs": [],
   "source": [
    "def on_connect(mqttc, obj, flags, rc):\n",
    "    print(\"rc: \" + str(rc))"
   ]
  },
  {
   "cell_type": "code",
   "execution_count": 23,
   "metadata": {
    "collapsed": true
   },
   "outputs": [],
   "source": [
    "def on_message(mqttc, obj, msg):\n",
    "    print(msg.topic + \" \" + str(msg.qos) + \" \" + str(msg.payload))\n",
    "    try:\n",
    "        parsed_json = json.loads(msg.payload)\n",
    "    except:\n",
    "        print(\"Unexpected error:\", sys.exc_info()[0])\n",
    "        \n",
    "    [r.action(parsed_json['value']) for r in filterBySensorId(parsed_json['sensor_id'], rules)]"
   ]
  },
  {
   "cell_type": "code",
   "execution_count": 24,
   "metadata": {
    "collapsed": true
   },
   "outputs": [],
   "source": [
    "def on_subscribe(mqttc, obj, mid, granted_qos):\n",
    "    print(\"Subscribed: \" + str(mid) + \" \" + str(granted_qos))"
   ]
  },
  {
   "cell_type": "code",
   "execution_count": 25,
   "metadata": {
    "collapsed": true
   },
   "outputs": [],
   "source": [
    "def on_log(mqttc, obj, level, string):\n",
    "    print(string)"
   ]
  },
  {
   "cell_type": "code",
   "execution_count": 26,
   "metadata": {
    "collapsed": true
   },
   "outputs": [],
   "source": [
    "mqttc = mqtt.Client()\n",
    "mqttc.on_message = on_message\n",
    "mqttc.on_connect = on_connect\n",
    "mqttc.on_subscribe = on_subscribe\n",
    "\n",
    "# Uncomment to enable debug messages\n",
    "# mqttc.on_log = on_log"
   ]
  },
  {
   "cell_type": "code",
   "execution_count": 27,
   "metadata": {},
   "outputs": [
    {
     "data": {
      "text/plain": [
       "0"
      ]
     },
     "execution_count": 27,
     "metadata": {},
     "output_type": "execute_result"
    }
   ],
   "source": [
    "mqttc.connect(\"localhost\", 1883, 60)"
   ]
  },
  {
   "cell_type": "code",
   "execution_count": null,
   "metadata": {},
   "outputs": [
    {
     "data": {
      "text/plain": [
       "(0, 1)"
      ]
     },
     "execution_count": 28,
     "metadata": {},
     "output_type": "execute_result"
    }
   ],
   "source": [
    "mqttc.subscribe(\"sensors/temperature/data\")"
   ]
  },
  {
   "cell_type": "code",
   "execution_count": null,
   "metadata": {},
   "outputs": [
    {
     "name": "stdout",
     "output_type": "stream",
     "text": [
      "rc: 0\n",
      "Subscribed: 1 (0,)\n",
      "sensors/temperature/data 0 {\"sensor_id\":\"temperature\",\"value\":24,\"timestamp\":1513811032566}\n",
      "\n",
      "Temperature Over 20 Rule activated on temperature with senor value 24\n",
      "\n",
      "sensors/temperature/data 0 {\"sensor_id\":\"temperature\",\"value\":21,\"timestamp\":1513811033570}\n",
      "\n",
      "Temperature Over 20 Rule activated on temperature with senor value 21\n",
      "\n",
      "sensors/temperature/data 0 {\"sensor_id\":\"temperature\",\"value\":19,\"timestamp\":1513811034572}\n",
      "sensors/temperature/data 0 {\"sensor_id\":\"temperature\",\"value\":21,\"timestamp\":1513811035573}\n",
      "\n",
      "Temperature Over 20 Rule activated on temperature with senor value 21\n",
      "\n",
      "sensors/temperature/data 0 {\"sensor_id\":\"temperature\",\"value\":24,\"timestamp\":1513811036574}\n",
      "\n",
      "Temperature Over 20 Rule activated on temperature with senor value 24\n",
      "\n",
      "sensors/temperature/data 0 {\"sensor_id\":\"temperature\",\"value\":15,\"timestamp\":1513811037576}\n",
      "sensors/temperature/data 0 {\"sensor_id\":\"temperature\",\"value\":17,\"timestamp\":1513811038578}\n",
      "sensors/temperature/data 0 {\"sensor_id\":\"temperature\",\"value\":16,\"timestamp\":1513811039580}\n",
      "sensors/temperature/data 0 {\"sensor_id\":\"temperature\",\"value\":15,\"timestamp\":1513811040582}\n",
      "sensors/temperature/data 0 {\"sensor_id\":\"temperature\",\"value\":13,\"timestamp\":1513811041582}\n",
      "Temperature Under 15 Rule activated on temperature with senor value 13\n",
      "sensors/temperature/data 0 {\"sensor_id\":\"temperature\",\"value\":11,\"timestamp\":1513811042583}\n",
      "Temperature Under 15 Rule activated on temperature with senor value 11\n"
     ]
    }
   ],
   "source": [
    "mqttc.loop_forever()"
   ]
  },
  {
   "cell_type": "code",
   "execution_count": null,
   "metadata": {
    "collapsed": true
   },
   "outputs": [],
   "source": []
  }
 ],
 "metadata": {
  "kernelspec": {
   "display_name": "Python 2",
   "language": "python",
   "name": "python2"
  },
  "language_info": {
   "codemirror_mode": {
    "name": "ipython",
    "version": 2
   },
   "file_extension": ".py",
   "mimetype": "text/x-python",
   "name": "python",
   "nbconvert_exporter": "python",
   "pygments_lexer": "ipython2",
   "version": "2.7.14"
  }
 },
 "nbformat": 4,
 "nbformat_minor": 2
}
