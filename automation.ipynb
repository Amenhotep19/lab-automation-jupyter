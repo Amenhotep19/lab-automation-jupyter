{
 "cells": [
  {
   "cell_type": "markdown",
   "metadata": {},
   "source": [
    "### Define a Base class for Working with Automation Rules "
   ]
  },
  {
   "cell_type": "code",
   "execution_count": 1,
   "metadata": {},
   "outputs": [],
   "source": [
    "import sys"
   ]
  },
  {
   "cell_type": "code",
   "execution_count": 2,
   "metadata": {},
   "outputs": [],
   "source": [
    "class Rule:\n",
    "    \"\"\"A Simple IoT Automation Rule Class\"\"\"\n",
    "    \n",
    "    def __init__(self, sensorID):\n",
    "        self.sensorID = sensorID\n",
    "    \n",
    "    def predicate(self, sensorValue):\n",
    "        return True\n",
    "    \n",
    "    def do(self, sensorValue):\n",
    "        try:\n",
    "            if self.predicate(sensorValue):\n",
    "                self.action(sensorValue)\n",
    "        except:\n",
    "            print \"Unexpected error:\", sys.exc_info()[0]\n",
    "                    \n",
    "    def action(self, sensorValue):\n",
    "        print(\"Generic Rule activiate on \" + \n",
    "              self.sensorID + \" with senor value \" + str(sensorValue))    "
   ]
  },
  {
   "cell_type": "markdown",
   "metadata": {},
   "source": [
    "### Define a Subclass Rule Class that can be Instantiated"
   ]
  },
  {
   "cell_type": "code",
   "execution_count": 3,
   "metadata": {},
   "outputs": [],
   "source": [
    "class TemperatureOver20Rule(Rule):\n",
    "    def predicate(self, sensorValue):\n",
    "        return sensorValue > 20\n",
    "    \n",
    "    def action(self, sensorValue):\n",
    "        print(\"Temperature Over 20 Rule activated on \" + self.sensorID + \" with senor value \" + str(sensorValue))"
   ]
  },
  {
   "cell_type": "code",
   "execution_count": 4,
   "metadata": {},
   "outputs": [],
   "source": [
    "class TemperatureUnder15Rule(Rule):\n",
    "    def predicate(self, sensorValue):\n",
    "        return sensorValue < 15\n",
    "    \n",
    "    def action(self, sensorValue):\n",
    "        print(\"Temperature Under 15 Rule activated on \" + self.sensorID + \" with senor value \" + str(sensorValue))"
   ]
  },
  {
   "cell_type": "markdown",
   "metadata": {},
   "source": [
    "### Instantiate the Rules"
   ]
  },
  {
   "cell_type": "code",
   "execution_count": 5,
   "metadata": {},
   "outputs": [],
   "source": [
    "r1 = Rule(\"temperature1\")\n",
    "r2 = TemperatureUnder15Rule(\"temperature\")\n",
    "r3 = TemperatureOver20Rule(\"temperature\")\n",
    "r4 = Rule(\"temperature4\")"
   ]
  },
  {
   "cell_type": "code",
   "execution_count": 6,
   "metadata": {},
   "outputs": [],
   "source": [
    "rules = r1, r2, r3, r4"
   ]
  },
  {
   "cell_type": "markdown",
   "metadata": {},
   "source": [
    "Return an array of results from each rules predicate function"
   ]
  },
  {
   "cell_type": "markdown",
   "metadata": {},
   "source": [
    "### Define Helper Functions"
   ]
  },
  {
   "cell_type": "markdown",
   "metadata": {},
   "source": [
    "The first helper function that we will define will take the entire list of automation rules and filter it based on sensorID. Becasue we are listening to JSON object that contain a **sensorID**, a **value** and a **timestamp**, this enables us to filter the automation rules to only include the rules that apply to the sensorID of the incoming data."
   ]
  },
  {
   "cell_type": "code",
   "execution_count": 7,
   "metadata": {},
   "outputs": [],
   "source": [
    "def filterBySensorId(sensorID, rules):\n",
    "    \"Filter a list of rules by sensorID\"\n",
    "    return [rule for rule in rules if rule.sensorID == sensorID]"
   ]
  },
  {
   "cell_type": "markdown",
   "metadata": {},
   "source": [
    "The second filter that we will define will take a list of automation rules and execute each of their **predicate** functions and return a list of rules that should be executed on the incoming data."
   ]
  },
  {
   "cell_type": "code",
   "execution_count": 8,
   "metadata": {},
   "outputs": [],
   "source": [
    "def filterByPredicate(sensorData, rules):\n",
    "    \"Filter a list of rules by its predicate\"\n",
    "    [rule for rule in rules if rule.predicate(sensorData) == True]"
   ]
  },
  {
   "cell_type": "code",
   "execution_count": 9,
   "metadata": {},
   "outputs": [
    {
     "name": "stdout",
     "output_type": "stream",
     "text": [
      "None\n"
     ]
    }
   ],
   "source": [
    "print filterByPredicate(20, rules)"
   ]
  },
  {
   "cell_type": "markdown",
   "metadata": {},
   "source": [
    "Let's test this helper to verify that it works as expected."
   ]
  },
  {
   "cell_type": "code",
   "execution_count": 10,
   "metadata": {},
   "outputs": [
    {
     "data": {
      "text/plain": [
       "[<__main__.Rule instance at 0x7fb4ec540248>]"
      ]
     },
     "execution_count": 10,
     "metadata": {},
     "output_type": "execute_result"
    }
   ],
   "source": [
    "filterBySensorId(\"temperature1\", rules)"
   ]
  },
  {
   "cell_type": "code",
   "execution_count": 11,
   "metadata": {},
   "outputs": [
    {
     "data": {
      "text/plain": [
       "[]"
      ]
     },
     "execution_count": 11,
     "metadata": {},
     "output_type": "execute_result"
    }
   ],
   "source": [
    "filterBySensorId(\"temperature2\", rules)"
   ]
  },
  {
   "cell_type": "code",
   "execution_count": 12,
   "metadata": {},
   "outputs": [
    {
     "data": {
      "text/plain": [
       "[]"
      ]
     },
     "execution_count": 12,
     "metadata": {},
     "output_type": "execute_result"
    }
   ],
   "source": [
    "filterBySensorId(\"temperature3\", rules)"
   ]
  },
  {
   "cell_type": "code",
   "execution_count": 13,
   "metadata": {},
   "outputs": [
    {
     "data": {
      "text/plain": [
       "[<__main__.Rule instance at 0x7fb4ec540518>]"
      ]
     },
     "execution_count": 13,
     "metadata": {},
     "output_type": "execute_result"
    }
   ],
   "source": [
    "filterBySensorId(\"temperature4\", rules)"
   ]
  },
  {
   "cell_type": "code",
   "execution_count": 14,
   "metadata": {},
   "outputs": [
    {
     "data": {
      "text/plain": [
       "[True, False, False, True]"
      ]
     },
     "execution_count": 14,
     "metadata": {},
     "output_type": "execute_result"
    }
   ],
   "source": [
    "[r.predicate(20) for r in rules]"
   ]
  },
  {
   "cell_type": "code",
   "execution_count": 15,
   "metadata": {},
   "outputs": [
    {
     "name": "stdout",
     "output_type": "stream",
     "text": [
      "Generic Rule activiate on temperature1 with senor value 21\n",
      "\n",
      "Temperature Over 20 Rule activated on temperature with senor value 21\n",
      "\n",
      "Generic Rule activiate on temperature4 with senor value 21\n"
     ]
    },
    {
     "data": {
      "text/plain": [
       "[None, None, None, None]"
      ]
     },
     "execution_count": 15,
     "metadata": {},
     "output_type": "execute_result"
    }
   ],
   "source": [
    "[r.do(21) for r in rules]"
   ]
  },
  {
   "cell_type": "markdown",
   "metadata": {},
   "source": [
    "## Helper Functions to Encode/Decode JSON"
   ]
  },
  {
   "cell_type": "code",
   "execution_count": 16,
   "metadata": {},
   "outputs": [],
   "source": [
    "import json"
   ]
  },
  {
   "cell_type": "code",
   "execution_count": 17,
   "metadata": {},
   "outputs": [],
   "source": [
    "sampleData = '{\"sensor_id\":\"temperature3\",\"value\":17,\"timestamp\":1513807710949}'"
   ]
  },
  {
   "cell_type": "code",
   "execution_count": 18,
   "metadata": {},
   "outputs": [],
   "source": [
    "try:\n",
    "    parsed_json = json.loads(sampleData)\n",
    "except:\n",
    "     print(\"Unexpected error:\", sys.exc_info()[0])"
   ]
  },
  {
   "cell_type": "code",
   "execution_count": 19,
   "metadata": {},
   "outputs": [
    {
     "data": {
      "text/plain": [
       "17"
      ]
     },
     "execution_count": 19,
     "metadata": {},
     "output_type": "execute_result"
    }
   ],
   "source": [
    "parsed_json['value']"
   ]
  },
  {
   "cell_type": "code",
   "execution_count": 20,
   "metadata": {},
   "outputs": [
    {
     "data": {
      "text/plain": [
       "[]"
      ]
     },
     "execution_count": 20,
     "metadata": {},
     "output_type": "execute_result"
    }
   ],
   "source": [
    "[r.do(parsed_json['value']) \n",
    "  for r in filterBySensorId(\n",
    "                  parsed_json['sensor_id'], rules\n",
    "  )]"
   ]
  },
  {
   "cell_type": "markdown",
   "metadata": {},
   "source": [
    "## Setup the MQTT subscription of the Automation Service"
   ]
  },
  {
   "cell_type": "code",
   "execution_count": 21,
   "metadata": {},
   "outputs": [],
   "source": [
    "import paho.mqtt.client as mqtt"
   ]
  },
  {
   "cell_type": "code",
   "execution_count": 22,
   "metadata": {},
   "outputs": [],
   "source": [
    "def on_connect(mqttc, obj, flags, rc):\n",
    "    print(\"rc: \" + str(rc))"
   ]
  },
  {
   "cell_type": "code",
   "execution_count": 23,
   "metadata": {},
   "outputs": [],
   "source": [
    "def on_message(mqttc, obj, msg):\n",
    "    print(msg.topic + \" \" + str(msg.qos) + \" \" + str(msg.payload))\n",
    "    try:\n",
    "        parsed_json = json.loads(msg.payload)\n",
    "    except:\n",
    "        print(\"Unexpected error:\", sys.exc_info()[0])\n",
    "        \n",
    "    [r.do(parsed_json['value']) for r in filterBySensorId(parsed_json['sensor_id'], rules)]"
   ]
  },
  {
   "cell_type": "code",
   "execution_count": 24,
   "metadata": {},
   "outputs": [],
   "source": [
    "def on_subscribe(mqttc, obj, mid, granted_qos):\n",
    "    print(\"Subscribed: \" + str(mid) + \" \" + str(granted_qos))"
   ]
  },
  {
   "cell_type": "code",
   "execution_count": 25,
   "metadata": {},
   "outputs": [],
   "source": [
    "def on_log(mqttc, obj, level, string):\n",
    "    print(string)"
   ]
  },
  {
   "cell_type": "code",
   "execution_count": 26,
   "metadata": {},
   "outputs": [],
   "source": [
    "mqttc = mqtt.Client()\n",
    "mqttc.on_message = on_message\n",
    "mqttc.on_connect = on_connect\n",
    "mqttc.on_subscribe = on_subscribe\n",
    "\n",
    "# Uncomment to enable debug messages\n",
    "# mqttc.on_log = on_log"
   ]
  },
  {
   "cell_type": "code",
   "execution_count": 27,
   "metadata": {},
   "outputs": [
    {
     "data": {
      "text/plain": [
       "0"
      ]
     },
     "execution_count": 27,
     "metadata": {},
     "output_type": "execute_result"
    }
   ],
   "source": [
    "mqttc.connect(\"localhost\", 1883, 60)"
   ]
  },
  {
   "cell_type": "code",
   "execution_count": null,
   "metadata": {},
   "outputs": [
    {
     "data": {
      "text/plain": [
       "(0, 1)"
      ]
     },
     "execution_count": 28,
     "metadata": {},
     "output_type": "execute_result"
    }
   ],
   "source": [
    "mqttc.subscribe(\"sensors/temperature/data\")"
   ]
  },
  {
   "cell_type": "code",
   "execution_count": null,
   "metadata": {},
   "outputs": [
    {
     "name": "stdout",
     "output_type": "stream",
     "text": [
      "rc: 0\n",
      "Subscribed: 1 (0,)\n",
      "sensors/temperature/data 0 {\"sensor_id\":\"temperature\",\"value\":24,\"timestamp\":1513811032566}\n",
      "\n",
      "Temperature Over 20 Rule activated on temperature with senor value 24\n",
      "\n",
      "sensors/temperature/data 0 {\"sensor_id\":\"temperature\",\"value\":21,\"timestamp\":1513811033570}\n",
      "\n",
      "Temperature Over 20 Rule activated on temperature with senor value 21\n",
      "\n",
      "sensors/temperature/data 0 {\"sensor_id\":\"temperature\",\"value\":19,\"timestamp\":1513811034572}\n",
      "sensors/temperature/data 0 {\"sensor_id\":\"temperature\",\"value\":21,\"timestamp\":1513811035573}\n",
      "\n",
      "Temperature Over 20 Rule activated on temperature with senor value 21\n",
      "\n",
      "sensors/temperature/data 0 {\"sensor_id\":\"temperature\",\"value\":24,\"timestamp\":1513811036574}\n",
      "\n",
      "Temperature Over 20 Rule activated on temperature with senor value 24\n",
      "\n",
      "sensors/temperature/data 0 {\"sensor_id\":\"temperature\",\"value\":15,\"timestamp\":1513811037576}\n",
      "sensors/temperature/data 0 {\"sensor_id\":\"temperature\",\"value\":17,\"timestamp\":1513811038578}\n",
      "sensors/temperature/data 0 {\"sensor_id\":\"temperature\",\"value\":16,\"timestamp\":1513811039580}\n",
      "sensors/temperature/data 0 {\"sensor_id\":\"temperature\",\"value\":15,\"timestamp\":1513811040582}\n",
      "sensors/temperature/data 0 {\"sensor_id\":\"temperature\",\"value\":13,\"timestamp\":1513811041582}\n",
      "Temperature Under 15 Rule activated on temperature with senor value 13\n",
      "sensors/temperature/data 0 {\"sensor_id\":\"temperature\",\"value\":11,\"timestamp\":1513811042583}\n",
      "Temperature Under 15 Rule activated on temperature with senor value 11\n"
     ]
    }
   ],
   "source": [
    "mqttc.loop_forever()"
   ]
  },
  {
   "cell_type": "code",
   "execution_count": null,
   "metadata": {},
   "outputs": [],
   "source": []
  }
 ],
 "metadata": {
  "kernelspec": {
   "display_name": "Python 2",
   "language": "python",
   "name": "python2"
  },
  "language_info": {
   "codemirror_mode": {
    "name": "ipython",
    "version": 2
   },
   "file_extension": ".py",
   "mimetype": "text/x-python",
   "name": "python",
   "nbconvert_exporter": "python",
   "pygments_lexer": "ipython2",
   "version": "2.7.14"
  }
 },
 "nbformat": 4,
 "nbformat_minor": 2
}
